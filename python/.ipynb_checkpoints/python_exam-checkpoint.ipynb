{
 "cells": [
  {
   "cell_type": "code",
   "execution_count": 4,
   "metadata": {},
   "outputs": [],
   "source": [
    "import json\n",
    "import datetime"
   ]
  },
  {
   "cell_type": "code",
   "execution_count": 96,
   "metadata": {},
   "outputs": [],
   "source": [
    "class PostcardList():\n",
    "    \n",
    "    def __init__(self):\n",
    "        self._file = \"default.txt\"\n",
    "        self._postcards = []\n",
    "        self._date = {}\n",
    "        self._from = {}\n",
    "        self._to = {}\n",
    "        self._counter = 0\n",
    "        \n",
    "    def parsePostcards(self):\n",
    "        for i in range(len(self._postcards)):\n",
    "            \n",
    "            a = datetime.datetime.strptime(self._postcards[i].split(\":\")[1].split(\";\")[0],\"%Y-%m-%d\")\n",
    "            b = self._postcards[i].split(\";\")[1].split(\":\")[1] \n",
    "            c = self._postcards[i].split(\":\")[-1].split(\";\")[0]\n",
    " \n",
    "            if a in self._date:\n",
    "                self._date[a].append(i)\n",
    "            else:\n",
    "                self._date[a] = [i]\n",
    "  \n",
    "            if b in self._from:\n",
    "                self._from[b].append(i)\n",
    "            else:\n",
    "                self._from[b] = [i]\n",
    "            \n",
    "            if c in self._to:\n",
    "                self._to[c].append(i)\n",
    "            else:\n",
    "                self._to[c] = [i]\n",
    "        \n",
    "    def readFile(self,file):\n",
    "        self._file = file\n",
    "        self._postcards = [line.rstrip(\"\\n\") for line in open(self._file,\"r\")]\n",
    "        self.parsePostcards()\n",
    "    \n",
    "    def updateLists(self,file):\n",
    "        self._file = file\n",
    "        tmp = [line.rstrip(\"\\n\") for line in open(self._file,\"r\")]\n",
    "        self._postcards += tmp\n",
    "        self.parsePostcards()\n",
    "        \n",
    "    def writeFile(self,file):\n",
    "        f = open(file,\"w\")\n",
    "        self._counter = 0\n",
    "        for it in self._postcards:\n",
    "            f.write(it+\"\\n\")\n",
    "            self._counter += 1\n",
    "        f.close()\n",
    "        \n",
    "    def updateFile(self,file):\n",
    "        f = open(file,\"a\")\n",
    "        for n in range(self._counter,len(self._postcards)):\n",
    "            f.write(self._postcards[n]+\"\\n\")\n",
    "        f.close() \n",
    "    \n",
    "    def getNumberOfPostcards(self):\n",
    "        return len(self._postcards)\n",
    "    \n",
    "    def getPostcardsBySender(self, sender):\n",
    "        if sender not in self._from:\n",
    "            print(sender, \"is absent.\")\n",
    "        else:\n",
    "            for var in self._from[sender]:\n",
    "                print(self._postcards[var])\n",
    "                \n",
    "    def getPostcardsByReceiver(self, receiver):\n",
    "        if receiver not in self._to:\n",
    "            print(receiver, \"is absent.\")\n",
    "        else:\n",
    "            for var in self._to[receiver]:\n",
    "                print(self._postcards[var])\n",
    "    \n",
    "    def getPostcardsByDateRange(self, date_range):\n",
    "        begin = date_range[0]\n",
    "        end = date_range[1]\n",
    "        n = 0\n",
    "        for d in self._date.keys():\n",
    "            if d>=begin and d<=end:\n",
    "                n += 1\n",
    "                for i in self._date[d]:\n",
    "                    print(self._postcards[i])\n",
    "        if n==0:\n",
    "                print(\"No postcards in date range\")"
   ]
  },
  {
   "cell_type": "code",
   "execution_count": 97,
   "metadata": {},
   "outputs": [
    {
     "name": "stdout",
     "output_type": "stream",
     "text": [
      "default.txt\n"
     ]
    }
   ],
   "source": [
    "p = PostcardList()\n",
    "print(p._file)\n",
    "p.readFile(\"./postcards/exam_postcard_list2.txt\")"
   ]
  },
  {
   "cell_type": "code",
   "execution_count": 98,
   "metadata": {},
   "outputs": [
    {
     "data": {
      "text/plain": [
       "23"
      ]
     },
     "execution_count": 98,
     "metadata": {},
     "output_type": "execute_result"
    }
   ],
   "source": [
    "p.getNumberOfPostcards()"
   ]
  },
  {
   "cell_type": "code",
   "execution_count": 99,
   "metadata": {},
   "outputs": [
    {
     "data": {
      "text/plain": [
       "23"
      ]
     },
     "execution_count": 99,
     "metadata": {},
     "output_type": "execute_result"
    }
   ],
   "source": [
    "p.writeFile(\"file.txt\")\n",
    "p._counter"
   ]
  },
  {
   "cell_type": "code",
   "execution_count": 100,
   "metadata": {},
   "outputs": [
    {
     "name": "stdout",
     "output_type": "stream",
     "text": [
      "date:2009-02-16; from:Hook; to:Goofy;\n",
      "date:2011-12-11; from:Daisy; to:Goofy;\n"
     ]
    }
   ],
   "source": [
    "p.getPostcardsByReceiver(\"Goofy\")"
   ]
  },
  {
   "cell_type": "code",
   "execution_count": 101,
   "metadata": {},
   "outputs": [
    {
     "name": "stdout",
     "output_type": "stream",
     "text": [
      "No postcards in date range\n"
     ]
    }
   ],
   "source": [
    "date_range=(datetime.datetime.strptime('2000-1-1', \"%Y-%m-%d\"),datetime.datetime.strptime('2002-12-31', \"%Y-%m-%d\"))\n",
    "p.getPostcardsByDateRange(date_range)"
   ]
  },
  {
   "cell_type": "code",
   "execution_count": 102,
   "metadata": {},
   "outputs": [
    {
     "name": "stdout",
     "output_type": "stream",
     "text": [
      "date:2009-12-22; from:Louie; to:Sleepy;\n",
      "date:2009-02-16; from:Hook; to:Goofy;\n",
      "date:2008-01-02; from:$crooge; to:Doc;\n",
      "date:2009-01-30; from:Peter; to:Donald;\n",
      "date:2009-02-09; from:SnowWhite; to:Minnie;\n",
      "date:2009-09-04; from:Grumpy; to:Doc;\n",
      "date:2009-04-15; from:Alice; to:Donald;\n"
     ]
    }
   ],
   "source": [
    "date_range=(datetime.datetime.strptime('2008-1-1', \"%Y-%m-%d\"),datetime.datetime.strptime('2010-12-31', \"%Y-%m-%d\"))\n",
    "p.getPostcardsByDateRange(date_range)"
   ]
  },
  {
   "cell_type": "code",
   "execution_count": 103,
   "metadata": {},
   "outputs": [
    {
     "data": {
      "text/plain": [
       "37"
      ]
     },
     "execution_count": 103,
     "metadata": {},
     "output_type": "execute_result"
    }
   ],
   "source": [
    "p.updateLists(\"./postcards/exam_postcard_list1.txt\")\n",
    "p.getNumberOfPostcards()"
   ]
  },
  {
   "cell_type": "code",
   "execution_count": 104,
   "metadata": {},
   "outputs": [],
   "source": [
    "p.updateFile(\"file.txt\")"
   ]
  },
  {
   "cell_type": "code",
   "execution_count": null,
   "metadata": {},
   "outputs": [],
   "source": []
  }
 ],
 "metadata": {
  "kernelspec": {
   "display_name": "Python 3",
   "language": "python",
   "name": "python3"
  },
  "language_info": {
   "codemirror_mode": {
    "name": "ipython",
    "version": 3
   },
   "file_extension": ".py",
   "mimetype": "text/x-python",
   "name": "python",
   "nbconvert_exporter": "python",
   "pygments_lexer": "ipython3",
   "version": "3.7.0"
  }
 },
 "nbformat": 4,
 "nbformat_minor": 2
}
